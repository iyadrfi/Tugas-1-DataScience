{
 "cells": [
  {
   "cell_type": "markdown",
   "id": "3f4b663c",
   "metadata": {},
   "source": [
    "# Week 1 Review Exercises\n"
   ]
  },
  {
   "cell_type": "markdown",
   "id": "ada58c46",
   "metadata": {},
   "source": [
    "Q1. Data Types\n",
    "\n",
    "What is the data type of the variable `pop`?"
   ]
  },
  {
   "cell_type": "code",
   "execution_count": 81,
   "id": "563c66fd",
   "metadata": {},
   "outputs": [],
   "source": [
    "pop = 5.8\n"
   ]
  },
  {
   "cell_type": "code",
   "execution_count": 82,
   "id": "caf77385",
   "metadata": {
    "scrolled": true
   },
   "outputs": [
    {
     "name": "stdout",
     "output_type": "stream",
     "text": [
      "<class 'float'>\n"
     ]
    }
   ],
   "source": [
    "print(type(pop))"
   ]
  },
  {
   "cell_type": "markdown",
   "id": "b19b8600",
   "metadata": {},
   "source": [
    "Q2. Which of the following is a valid variable name of of population below 15 years old?\n"
   ]
  },
  {
   "cell_type": "code",
   "execution_count": null,
   "id": "d4726098",
   "metadata": {},
   "outputs": [],
   "source": [
    "# which line won't give an error? Comment out the ones that do!\n",
    "\n",
    "15_years_and_below = 12.33\n",
    "%_pop_15_below = 12.33\n",
    "_15&below_pop = 12.33\n",
    "_15_below_pop = 12.33   # This line is the only one that works "
   ]
  },
  {
   "cell_type": "markdown",
   "id": "6227288b",
   "metadata": {},
   "source": [
    "Q3. What will be stored in `result`?"
   ]
  },
  {
   "cell_type": "code",
   "execution_count": 84,
   "id": "5e4cfdfd",
   "metadata": {},
   "outputs": [
    {
     "name": "stdout",
     "output_type": "stream",
     "text": [
      "17\n"
     ]
    }
   ],
   "source": [
    "result = 3 + 4 ** 2 - (5 // 2)\n",
    "print(result)"
   ]
  },
  {
   "cell_type": "markdown",
   "id": "4b2b1ba6",
   "metadata": {},
   "source": [
    "Q4. If Singapore has an estimated population of 5.85 million and the land area is 700 square kilometers, what is the population density (number of people per KM)? \n"
   ]
  },
  {
   "cell_type": "code",
   "execution_count": 85,
   "id": "3b3dd8d9",
   "metadata": {
    "scrolled": true
   },
   "outputs": [
    {
     "name": "stdout",
     "output_type": "stream",
     "text": [
      "The Population Density of Singapore is  8357.142857142857\n"
     ]
    }
   ],
   "source": [
    "# Estimated total Population of Singapore, in millions\n",
    "total_pop_millions = 5.85\n",
    "\n",
    "# Total land area, in KM\n",
    "land_area = 700\n",
    "\n",
    "# How many people are there per KM?\n",
    "\n",
    "population_density = total_pop_millions * 1e6 / land_area\n",
    "\n",
    "print (\"The Population Density of Singapore is \", population_density)"
   ]
  },
  {
   "cell_type": "markdown",
   "id": "8a8b4f48",
   "metadata": {},
   "source": [
    "Q5. Write a function called `pop_density()` that receives two arguments:\n",
    "1. the population, recorded in millions, `population_mil`\n",
    "2. the land area, in square kilometres, `land_area_sqkm`\n",
    "\n",
    "The function should calculate and return the population density. \n"
   ]
  },
  {
   "cell_type": "code",
   "execution_count": 5,
   "id": "cec3ad43",
   "metadata": {
    "scrolled": true
   },
   "outputs": [],
   "source": [
    "def pop_density(population_mil,land_area_sqkm):\n",
    "    density = population_mil * 1e6 / land_area_sqkm\n",
    "    return density"
   ]
  },
  {
   "cell_type": "markdown",
   "id": "9c7711c8",
   "metadata": {},
   "source": [
    "Q6. Call the function you have written to calculate and display the population density of Hong Kong: 7.50 million people in a land area of 1050 km squared \n"
   ]
  },
  {
   "cell_type": "code",
   "execution_count": 6,
   "id": "a2b27625",
   "metadata": {},
   "outputs": [
    {
     "data": {
      "text/plain": [
       "7142.857142857143"
      ]
     },
     "execution_count": 6,
     "metadata": {},
     "output_type": "execute_result"
    }
   ],
   "source": [
    "population_mil_hk = 7.50\n",
    "land_area_sqkm_hk = 1050\n",
    "\n",
    "pop_density(population_mil_hk,land_area_sqkm_hk)"
   ]
  },
  {
   "cell_type": "markdown",
   "id": "43cbdd91",
   "metadata": {},
   "source": [
    "Q7. Using the `pop_density()` function, calculate the population density of Singapore and then use comparison operators to compare the population densities of Singapore and Hong Kong.\n",
    "\n",
    "Singapore's population: 5.85 million\n",
    "Singapore's land area: 700 sq km\n",
    "\n",
    "(Data From [Worldometers](http://worldometers.info))\n"
   ]
  },
  {
   "cell_type": "code",
   "execution_count": 7,
   "id": "626d47c8",
   "metadata": {},
   "outputs": [
    {
     "name": "stdout",
     "output_type": "stream",
     "text": [
      "Singapore has a higher population density than Hong Kong.\n"
     ]
    }
   ],
   "source": [
    "population_mil_sg = 5.85\n",
    "land_area_sqkm_sg = 700\n",
    "\n",
    "population_mil_hk = 7.50\n",
    "land_area_sqkm_hk = 1050\n",
    "\n",
    "density_singapore = pop_density(population_mil_sg,land_area_sqkm_sg)\n",
    "density_hongkong = pop_density(population_mil_hk,land_area_sqkm_hk)\n",
    "\n",
    "if density_singapore > density_hongkong :\n",
    "    print(\"Singapore has a higher population density than Hong Kong.\")\n",
    "else :\n",
    "    print(\"Singapore has a lower population density than Hong Kong.\")"
   ]
  },
  {
   "cell_type": "markdown",
   "id": "cc1768c5",
   "metadata": {},
   "source": [
    "Q8. Let's add another area to compare: Macao's population is 0.65 million in a land area of 30 sq km. Find out whether Singapore's population density is higher than BOTH Hong Kong and Macao."
   ]
  },
  {
   "cell_type": "code",
   "execution_count": 8,
   "id": "55aeec5c",
   "metadata": {},
   "outputs": [
    {
     "name": "stdout",
     "output_type": "stream",
     "text": [
      "Singapore's population density is not higher than both Hong Kong and Macao.\n"
     ]
    }
   ],
   "source": [
    "population_mil_sg = 5.85\n",
    "land_area_sqkm_sg = 700\n",
    "\n",
    "population_mil_hk = 7.50\n",
    "land_area_sqkm_hk = 1050\n",
    "\n",
    "population_mil_mc = 0.65\n",
    "land_area_sqkm_mc = 30\n",
    "\n",
    "density_singapore = pop_density(population_mil_sg,land_area_sqkm_sg)\n",
    "density_hongkong = pop_density(population_mil_hk,land_area_sqkm_hk)\n",
    "density_macao = pop_density(population_mil_mc,land_area_sqkm_mc)\n",
    "\n",
    "if density_singapore > density_hongkong and density_singapore > density_macao :\n",
    "    print(\"Singapore's population density is higher than both Hong Kong and Macao.\")\n",
    "else:\n",
    "    print(\"Singapore's population density is not higher than both Hong Kong and Macao.\")"
   ]
  },
  {
   "cell_type": "markdown",
   "id": "66b284ff",
   "metadata": {},
   "source": [
    "Q9. Write a function called compare_density() that receives two arguments representing the population densities of two areas. The function will compare the two values and print one of the following strings:\n",
    "- “Area 1 has higher density”\n",
    "- “Area 2 has higher density”\n",
    "- “Both areas have the same density”"
   ]
  },
  {
   "cell_type": "code",
   "execution_count": 11,
   "id": "63351d63",
   "metadata": {},
   "outputs": [
    {
     "name": "stdout",
     "output_type": "stream",
     "text": [
      "Area 1 has higher density\n"
     ]
    }
   ],
   "source": [
    "def compare_density (density1, density2) : \n",
    "    if density1 > density2 :\n",
    "        print(\"Area 1 has higher density\")\n",
    "    elif density1 < density2:\n",
    "        print(\"Area 2 has higher density\")\n",
    "    else:\n",
    "        print(\"Both areas have the same density\")\n",
    "        \n",
    "density_area1 = 1000  \n",
    "density_area2 = 500\n",
    "\n",
    "compare_density(density_area1, density_area2)\n",
    "    "
   ]
  },
  {
   "cell_type": "markdown",
   "id": "0e7c4ab1",
   "metadata": {},
   "source": [
    "Then we can test the function by passing the values of `sg_density` and `hk_density` as arguments."
   ]
  },
  {
   "cell_type": "code",
   "execution_count": 14,
   "id": "6f1a4362",
   "metadata": {},
   "outputs": [
    {
     "name": "stdout",
     "output_type": "stream",
     "text": [
      "Area 1 has higher density\n"
     ]
    }
   ],
   "source": [
    "density_area1 = 8357.142857142857 \n",
    "density_area2 = 7142.857142857143  \n",
    "\n",
    "compare_density(density_area1, density_area2)"
   ]
  },
  {
   "cell_type": "markdown",
   "id": "49fae04b",
   "metadata": {},
   "source": [
    "Q10. What will be the result of the following loop?\n",
    "\n",
    "```\n",
    "for year in range(2022, 2031, 2):\n",
    "    print(year)\n",
    "```"
   ]
  },
  {
   "cell_type": "code",
   "execution_count": 15,
   "id": "48ab8047",
   "metadata": {},
   "outputs": [
    {
     "name": "stdout",
     "output_type": "stream",
     "text": [
      "2022\n",
      "2024\n",
      "2026\n",
      "2028\n",
      "2030\n"
     ]
    }
   ],
   "source": [
    "for year in range(2022, 2031, 2):\n",
    "    print(year)"
   ]
  },
  {
   "cell_type": "markdown",
   "id": "359280f1",
   "metadata": {},
   "source": [
    "Q.11 Write a function projected_population() that receives three arguments:\n",
    "- Current population, in millions\n",
    "- Growth rate\n",
    "- Current year\n"
   ]
  },
  {
   "cell_type": "markdown",
   "id": "43b00110",
   "metadata": {},
   "source": [
    "The function should:\n",
    "- set the projected population to the current population\n",
    "- set the projected year to the current year\n",
    "- calculate the difference between the projected population and current population\n",
    "\n",
    "while the difference is between -1 and 1:\n",
    "1. print the projected year and the projected population\n",
    "2. calculate the projected population = projected population + projected population * growth rate / 100\n",
    "3. update the projected year \n",
    "4. recalculate the difference between the projected propulation and current population"
   ]
  },
  {
   "cell_type": "code",
   "execution_count": 96,
   "id": "8e62f54e",
   "metadata": {},
   "outputs": [],
   "source": [
    "def projected_population(current_population, growth_rate, current_year):\n",
    "    projected_population = current_population\n",
    "    projected_year = current_year\n",
    "\n",
    "    difference = projected_population - current_population\n",
    "\n",
    "    while -1 < difference < 1:\n",
    "        print(\"Projected Year:\", projected_year)\n",
    "        print(\"Projected Population:\", projected_population)\n",
    "\n",
    "        projected_population += projected_population * growth_rate / 100\n",
    "        projected_year += 1\n",
    "\n",
    "        difference = projected_population - current_population\n",
    "\n",
    "    return projected_population, projected_year\n"
   ]
  },
  {
   "cell_type": "code",
   "execution_count": 97,
   "id": "35c3f670",
   "metadata": {},
   "outputs": [
    {
     "name": "stdout",
     "output_type": "stream",
     "text": [
      "Thailand's population growth\n",
      "Projected Year: 2020\n",
      "Projected Population: 69.8\n",
      "Projected Year: 2021\n",
      "Projected Population: 70.0094\n",
      "Projected Year: 2022\n",
      "Projected Population: 70.2194282\n",
      "Projected Year: 2023\n",
      "Projected Population: 70.4300864846\n",
      "Projected Year: 2024\n",
      "Projected Population: 70.6413767440538\n"
     ]
    },
    {
     "data": {
      "text/plain": [
       "(70.85330087428596, 2025)"
      ]
     },
     "execution_count": 97,
     "metadata": {},
     "output_type": "execute_result"
    }
   ],
   "source": [
    "# testing with Thailand\n",
    "print(\"Thailand's population growth\")\n",
    "projected_population(current_population = 69.8, growth_rate = 0.3, current_year = 2020)"
   ]
  },
  {
   "cell_type": "markdown",
   "id": "09df059d",
   "metadata": {},
   "source": [
    "Q.12 Write a function called `string_info()` which takes in a string argument and returns four values:\n",
    "- the first 3 characters\n",
    "- last 3 characters\n",
    "- the number of characters in the string\n",
    "- the string with each word capitalized"
   ]
  },
  {
   "cell_type": "code",
   "execution_count": 16,
   "id": "254d3e0c",
   "metadata": {},
   "outputs": [],
   "source": [
    "def string_info(word): \n",
    "    first_3_char = word[:3]\n",
    "    last_3_char = word[-3:]\n",
    "    num_char = len(word)\n",
    "    caps_char = word.title()\n",
    "    \n",
    "    return first_3_char, last_3_char, num_char, caps_char"
   ]
  },
  {
   "cell_type": "code",
   "execution_count": 17,
   "id": "5858639b",
   "metadata": {},
   "outputs": [],
   "source": [
    "#calling the function\n",
    "start, end, num, title = string_info(\"data science\")\n"
   ]
  },
  {
   "cell_type": "code",
   "execution_count": 18,
   "id": "f286a42c",
   "metadata": {},
   "outputs": [
    {
     "name": "stdout",
     "output_type": "stream",
     "text": [
      "('dat', 'nce', 12, 'Data Science')\n"
     ]
    }
   ],
   "source": [
    "# print what's returned\n",
    "print(string_info(\"data science\"))"
   ]
  },
  {
   "cell_type": "markdown",
   "id": "f33e1677",
   "metadata": {},
   "source": [
    "# Congratulations! \n",
    "\n",
    "You have reached the end of this notebook! Hope you have been able to practice and review the fundamental concepts in Python coding and we will do more next week!"
   ]
  }
 ],
 "metadata": {
  "kernelspec": {
   "display_name": "Python 3 (ipykernel)",
   "language": "python",
   "name": "python3"
  },
  "language_info": {
   "codemirror_mode": {
    "name": "ipython",
    "version": 3
   },
   "file_extension": ".py",
   "mimetype": "text/x-python",
   "name": "python",
   "nbconvert_exporter": "python",
   "pygments_lexer": "ipython3",
   "version": "3.11.4"
  }
 },
 "nbformat": 4,
 "nbformat_minor": 5
}
